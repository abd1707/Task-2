{
 "cells": [
  {
   "cell_type": "markdown",
   "id": "30218e59",
   "metadata": {},
   "source": [
    "REFERAL CODE:- SIRSS2263\n",
    "\n",
    "NAME:- ABDULLAH RAHMAN"
   ]
  },
  {
   "cell_type": "markdown",
   "id": "7afaf398",
   "metadata": {},
   "source": [
    "Q1. Write a lambda expression to extract first word of a string."
   ]
  },
  {
   "cell_type": "code",
   "execution_count": 2,
   "id": "e5fb8965",
   "metadata": {},
   "outputs": [
    {
     "data": {
      "text/plain": [
       "'Avengers'"
      ]
     },
     "execution_count": 2,
     "metadata": {},
     "output_type": "execute_result"
    }
   ],
   "source": [
    "x='Avengers will win against Thanos'\n",
    "y=lambda str:str.split()[0]\n",
    "y(x)"
   ]
  },
  {
   "cell_type": "markdown",
   "id": "24ad995b",
   "metadata": {},
   "source": [
    "Q2. Write a function to extract first word of s string (with many words separated by space)."
   ]
  },
  {
   "cell_type": "code",
   "execution_count": 4,
   "id": "4e18fbe0",
   "metadata": {},
   "outputs": [
    {
     "data": {
      "text/plain": [
       "'Luffy'"
      ]
     },
     "execution_count": 4,
     "metadata": {},
     "output_type": "execute_result"
    }
   ],
   "source": [
    "x='Luffy will become the King of the Pirates'\n",
    "def f_word(string):\n",
    "    return string.split()[0]\n",
    "f_word(x)"
   ]
  },
  {
   "cell_type": "markdown",
   "id": "d8b242b4",
   "metadata": {},
   "source": [
    "Q3. Extract the first word from every string from a list of strings by using map function."
   ]
  },
  {
   "cell_type": "code",
   "execution_count": 5,
   "id": "a0d82c10",
   "metadata": {},
   "outputs": [
    {
     "data": {
      "text/plain": [
       "['There', 'One', 'Naruto', 'Dragon']"
      ]
     },
     "execution_count": 5,
     "metadata": {},
     "output_type": "execute_result"
    }
   ],
   "source": [
    "x=['There are many Anime but the top three are mentioned below',\n",
    "    'One Piece is one of the best ongoing Anime',\n",
    "    'Naruto has some amazing ninja fight and has shown their ninja way',\n",
    "    'Dragon Ball Z was first anime that has started the shonen era']\n",
    "list(map(lambda str: str.split()[0],x))"
   ]
  },
  {
   "cell_type": "markdown",
   "id": "dec99a94",
   "metadata": {},
   "source": [
    "Q4. Write a function to return a list of prime factors of a given number."
   ]
  },
  {
   "cell_type": "code",
   "execution_count": 10,
   "id": "640f04f0",
   "metadata": {},
   "outputs": [
    {
     "name": "stdout",
     "output_type": "stream",
     "text": [
      "Enter the number: 720\n",
      "[2, 2, 2, 2, 3, 3, 5]\n"
     ]
    }
   ],
   "source": [
    "def prime_fac(x):\n",
    "    factors = []\n",
    "    divisor = 2\n",
    "    while divisor <= x:\n",
    "        if x%divisor == 0:\n",
    "            factors.append(divisor)\n",
    "            x = x/divisor \n",
    "        else:\n",
    "            divisor += 1 \n",
    "    return factors\n",
    "\n",
    "num = input('Enter the number: ')\n",
    "print(prime_fac(int(num)))"
   ]
  },
  {
   "cell_type": "markdown",
   "id": "d2264aec",
   "metadata": {},
   "source": [
    "Q5. Write a function that finds 2nd largest among 4 numbers (Repetitions are allowed, without sorting)."
   ]
  },
  {
   "cell_type": "code",
   "execution_count": 18,
   "id": "d8cbdaaf",
   "metadata": {},
   "outputs": [
    {
     "name": "stdout",
     "output_type": "stream",
     "text": [
      "Enter elements: 6\n",
      "Enter elements: 5\n",
      "Enter elements: 9\n",
      "Enter elements: 4\n",
      "All elements:  [6, 5, 9, 4]\n",
      "2nd largest element:  6\n"
     ]
    }
   ],
   "source": [
    "list1 = []\n",
    " \n",
    "def second_largest(l):\n",
    "    new_list = set(l)\n",
    "    new_list.remove(max(new_list))\n",
    "    return max(new_list)\n",
    "\n",
    "for i in range(1, 5):\n",
    "    elmnt = int(input(\"Enter elements: \"))\n",
    "    list1.append(elmnt)\n",
    "    \n",
    "print('All elements: ',list1)\n",
    "print('2nd largest element: ',second_largest(list1))"
   ]
  },
  {
   "cell_type": "code",
   "execution_count": null,
   "id": "901db9ef",
   "metadata": {},
   "outputs": [],
   "source": []
  }
 ],
 "metadata": {
  "language_info": {
   "codemirror_mode": {
    "name": "ipython",
    "version": 3
   },
   "file_extension": ".py",
   "mimetype": "text/x-python",
   "name": "python",
   "nbconvert_exporter": "python",
   "pygments_lexer": "ipython3",
   "version": "3.8.8"
  }
 },
 "nbformat": 4,
 "nbformat_minor": 5
}
